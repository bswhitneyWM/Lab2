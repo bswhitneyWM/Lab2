{
 "cells": [
  {
   "cell_type": "code",
   "execution_count": 37,
   "id": "intended-reporter",
   "metadata": {},
   "outputs": [
    {
     "data": {
      "text/html": [
       "<div>\n",
       "<style scoped>\n",
       "    .dataframe tbody tr th:only-of-type {\n",
       "        vertical-align: middle;\n",
       "    }\n",
       "\n",
       "    .dataframe tbody tr th {\n",
       "        vertical-align: top;\n",
       "    }\n",
       "\n",
       "    .dataframe thead th {\n",
       "        text-align: right;\n",
       "    }\n",
       "</style>\n",
       "<table border=\"1\" class=\"dataframe\">\n",
       "  <thead>\n",
       "    <tr style=\"text-align: right;\">\n",
       "      <th></th>\n",
       "      <th>model</th>\n",
       "      <th>mpg</th>\n",
       "      <th>cyl</th>\n",
       "      <th>disp</th>\n",
       "      <th>hp</th>\n",
       "      <th>drat</th>\n",
       "      <th>wt</th>\n",
       "      <th>qsec</th>\n",
       "      <th>vs</th>\n",
       "      <th>am</th>\n",
       "      <th>gear</th>\n",
       "      <th>carb</th>\n",
       "    </tr>\n",
       "  </thead>\n",
       "  <tbody>\n",
       "    <tr>\n",
       "      <th>0</th>\n",
       "      <td>Mazda RX4</td>\n",
       "      <td>21.0</td>\n",
       "      <td>6</td>\n",
       "      <td>160.0</td>\n",
       "      <td>110</td>\n",
       "      <td>3.90</td>\n",
       "      <td>2.620</td>\n",
       "      <td>16.46</td>\n",
       "      <td>0</td>\n",
       "      <td>1</td>\n",
       "      <td>4</td>\n",
       "      <td>4</td>\n",
       "    </tr>\n",
       "    <tr>\n",
       "      <th>1</th>\n",
       "      <td>Mazda RX4 Wag</td>\n",
       "      <td>21.0</td>\n",
       "      <td>6</td>\n",
       "      <td>160.0</td>\n",
       "      <td>110</td>\n",
       "      <td>3.90</td>\n",
       "      <td>2.875</td>\n",
       "      <td>17.02</td>\n",
       "      <td>0</td>\n",
       "      <td>1</td>\n",
       "      <td>4</td>\n",
       "      <td>4</td>\n",
       "    </tr>\n",
       "    <tr>\n",
       "      <th>2</th>\n",
       "      <td>Datsun 710</td>\n",
       "      <td>22.8</td>\n",
       "      <td>4</td>\n",
       "      <td>108.0</td>\n",
       "      <td>93</td>\n",
       "      <td>3.85</td>\n",
       "      <td>2.320</td>\n",
       "      <td>18.61</td>\n",
       "      <td>1</td>\n",
       "      <td>1</td>\n",
       "      <td>4</td>\n",
       "      <td>1</td>\n",
       "    </tr>\n",
       "    <tr>\n",
       "      <th>3</th>\n",
       "      <td>Hornet 4 Drive</td>\n",
       "      <td>21.4</td>\n",
       "      <td>6</td>\n",
       "      <td>258.0</td>\n",
       "      <td>110</td>\n",
       "      <td>3.08</td>\n",
       "      <td>3.215</td>\n",
       "      <td>19.44</td>\n",
       "      <td>1</td>\n",
       "      <td>0</td>\n",
       "      <td>3</td>\n",
       "      <td>1</td>\n",
       "    </tr>\n",
       "    <tr>\n",
       "      <th>4</th>\n",
       "      <td>Hornet Sportabout</td>\n",
       "      <td>18.7</td>\n",
       "      <td>8</td>\n",
       "      <td>360.0</td>\n",
       "      <td>175</td>\n",
       "      <td>3.15</td>\n",
       "      <td>3.440</td>\n",
       "      <td>17.02</td>\n",
       "      <td>0</td>\n",
       "      <td>0</td>\n",
       "      <td>3</td>\n",
       "      <td>2</td>\n",
       "    </tr>\n",
       "    <tr>\n",
       "      <th>5</th>\n",
       "      <td>Valiant</td>\n",
       "      <td>18.1</td>\n",
       "      <td>6</td>\n",
       "      <td>225.0</td>\n",
       "      <td>105</td>\n",
       "      <td>2.76</td>\n",
       "      <td>3.460</td>\n",
       "      <td>20.22</td>\n",
       "      <td>1</td>\n",
       "      <td>0</td>\n",
       "      <td>3</td>\n",
       "      <td>1</td>\n",
       "    </tr>\n",
       "  </tbody>\n",
       "</table>\n",
       "</div>"
      ],
      "text/plain": [
       "               model   mpg  cyl   disp   hp  drat     wt   qsec  vs  am  gear  \\\n",
       "0          Mazda RX4  21.0    6  160.0  110  3.90  2.620  16.46   0   1     4   \n",
       "1      Mazda RX4 Wag  21.0    6  160.0  110  3.90  2.875  17.02   0   1     4   \n",
       "2         Datsun 710  22.8    4  108.0   93  3.85  2.320  18.61   1   1     4   \n",
       "3     Hornet 4 Drive  21.4    6  258.0  110  3.08  3.215  19.44   1   0     3   \n",
       "4  Hornet Sportabout  18.7    8  360.0  175  3.15  3.440  17.02   0   0     3   \n",
       "5            Valiant  18.1    6  225.0  105  2.76  3.460  20.22   1   0     3   \n",
       "\n",
       "   carb  \n",
       "0     4  \n",
       "1     4  \n",
       "2     1  \n",
       "3     1  \n",
       "4     2  \n",
       "5     1  "
      ]
     },
     "execution_count": 37,
     "metadata": {},
     "output_type": "execute_result"
    }
   ],
   "source": [
    "import pandas as pd\n",
    "import numpy as np\n",
    "import matplotlib.pyplot as plt\n",
    "from scipy import stats\n",
    "from scipy.stats import norm\n",
    "\n",
    "# Load the data\n",
    "data = pd.read_csv('mtcars.csv')\n",
    "data.head(6)"
   ]
  },
  {
   "cell_type": "markdown",
   "id": "textile-determination",
   "metadata": {},
   "source": [
    "**Question 1**"
   ]
  },
  {
   "cell_type": "code",
   "execution_count": 38,
   "id": "promotional-electricity",
   "metadata": {},
   "outputs": [
    {
     "name": "stdout",
     "output_type": "stream",
     "text": [
      "guranteed percent:  98.4375\n"
     ]
    }
   ],
   "source": [
    "# Regardless whether we know or not the shape of the distribution of a random variable, an interval centered around the mean whose total length \n",
    "# is 8 standard deviations is guaranteed to include at least a certain percantage of data. This guaranteed minimal value as a percentage is\n",
    "k = 8\n",
    "percent = 1 - (1/(k**2))\n",
    "print(\"guranteed percent: \", percent * 100)"
   ]
  },
  {
   "cell_type": "markdown",
   "id": "aware-flexibility",
   "metadata": {},
   "source": [
    "**Question 2**"
   ]
  },
  {
   "cell_type": "code",
   "execution_count": 39,
   "id": "veterinary-method",
   "metadata": {},
   "outputs": [
    {
     "data": {
      "image/png": "[encoded data removed]",
      "text/plain": [
       "<Figure size 432x288 with 1 Axes>"
      ]
     },
     "metadata": {
      "needs_background": "light"
     },
     "output_type": "display_data"
    }
   ],
   "source": [
    "from sklearn.preprocessing import QuantileTransformer as QT\n",
    "from sklearn.preprocessing import StandardScaler as SS\n",
    "\n",
    "ss = SS()\n",
    "qt = QT(n_quantiles=10)\n",
    "\n",
    "zs = ss.fit_transform(data[['mpg']])\n",
    "qs = qt.fit_transform(data[['mpg']])\n",
    "\n",
    "\n",
    "plt.plot(qs, color='blue', label=\"Quantiles\")\n",
    "plt.plot(zs, color='orange', label=\"Z-scores\")\n",
    "plt.legend()\n",
    "plt.show()"
   ]
  },
  {
   "cell_type": "markdown",
   "id": "mounted-judge",
   "metadata": {},
   "source": [
    "Zscores use the mean as the center of the data, while Quantiles use the median as the center of the data (50th percentile). This difference leads me to believe zscores are not involved in the calculation of quanitles"
   ]
  },
  {
   "cell_type": "code",
   "execution_count": 40,
   "id": "complicated-paradise",
   "metadata": {},
   "outputs": [
    {
     "data": {
      "text/plain": [
       "16.05768647996048"
      ]
     },
     "execution_count": 40,
     "metadata": {},
     "output_type": "execute_result"
    }
   ],
   "source": [
    "sumx = np.sum(qs)\n",
    "sumy = np.sum(zs)\n",
    "sumx"
   ]
  },
  {
   "cell_type": "markdown",
   "id": "intellectual-lighter",
   "metadata": {},
   "source": [
    "**Question 3**"
   ]
  },
  {
   "cell_type": "code",
   "execution_count": 41,
   "id": "fifty-black",
   "metadata": {},
   "outputs": [
    {
     "name": "stdout",
     "output_type": "stream",
     "text": [
      "zscore of an 18.1 mpg car is:  mpg   -0.335572\n",
      "dtype: float64\n"
     ]
    }
   ],
   "source": [
    "# In the 'mtcars' dataset the zscore of an 18.1mpg car is \n",
    "zscore = (18.1 - np.mean(data[['mpg']]))/np.std(data[['mpg']])\n",
    "print(\"zscore of an 18.1 mpg car is: \", zscore)"
   ]
  },
  {
   "cell_type": "code",
   "execution_count": 42,
   "id": "streaming-cooler",
   "metadata": {},
   "outputs": [
    {
     "data": {
      "text/plain": [
       "array([-0.33557233])"
      ]
     },
     "execution_count": 42,
     "metadata": {},
     "output_type": "execute_result"
    }
   ],
   "source": [
    "from sklearn.preprocessing import StandardScaler as SS\n",
    "\n",
    "ss = SS()\n",
    "dat = ss.fit_transform(data[['mpg']])\n",
    "dat[5]"
   ]
  },
  {
   "cell_type": "markdown",
   "id": "exotic-christmas",
   "metadata": {},
   "source": [
    "**Question 4**"
   ]
  },
  {
   "cell_type": "code",
   "execution_count": 43,
   "id": "therapeutic-keeping",
   "metadata": {},
   "outputs": [
    {
     "name": "stdout",
     "output_type": "stream",
     "text": [
      "21st encounter has weight: 3520.0 pounds\n",
      "percentile is: [67.74193548]\n"
     ]
    }
   ],
   "source": [
    "# In the 'mtcars' dataset determine the percentile of a car that weighs 3520bs is (round up to the nearest percentage point)\n",
    "print('21st encounter has weight: ' + str(data.wt[21]*1000) + ' pounds')\n",
    "\n",
    "from sklearn.preprocessing import QuantileTransformer\n",
    "qt = QuantileTransformer(n_quantiles=32)\n",
    "dat = qt.fit_transform(data[['wt']])\n",
    "print(\"percentile is: \" + str(dat[21]*100))"
   ]
  },
  {
   "cell_type": "code",
   "execution_count": 44,
   "id": "aboriginal-notice",
   "metadata": {},
   "outputs": [
    {
     "name": "stdout",
     "output_type": "stream",
     "text": [
      "3524.0 pounds\n"
     ]
    }
   ],
   "source": [
    "# Double check\n",
    "x = np.percentile(data.wt, 68)\n",
    "print(str(x*1000) + \" pounds\")"
   ]
  },
  {
   "cell_type": "markdown",
   "id": "split-bleeding",
   "metadata": {},
   "source": [
    "**Question 5**"
   ]
  },
  {
   "cell_type": "markdown",
   "id": "aggressive-analyst",
   "metadata": {},
   "source": [
    "Question: A finite sum of squared quantities that depends on some parameters (weights), always has a minimum value.\n",
    "\n",
    "Answer: I think this is TRUE because there is always a solution to an OLS problem. \n",
    "There could be multiple sets of weights that proovide equally small values, \n",
    "but there will always be a minimum value, regardless of whether it is a unique solution or not"
   ]
  },
  {
   "cell_type": "markdown",
   "id": "behavioral-turkey",
   "metadata": {},
   "source": [
    "**Question 6**"
   ]
  },
  {
   "cell_type": "code",
   "execution_count": 45,
   "id": "biblical-librarian",
   "metadata": {},
   "outputs": [
    {
     "name": "stdout",
     "output_type": "stream",
     "text": [
      "Pedicted mileage to two decimals: 22.32\n"
     ]
    }
   ],
   "source": [
    "# For the 'mtcars' data set use a linear model to predict the mileage of a car whose weight is 2800lbs. \n",
    "# The answer with only the first two decimal places and no rounding is:\n",
    "ss = SS()\n",
    "\n",
    "X = data[['wt']]\n",
    "y = data[['mpg']]\n",
    "\n",
    "from sklearn.linear_model import LinearRegression as LR\n",
    "lin_reg = LR()\n",
    "lin_reg = lin_reg.fit(X, y)\n",
    "\n",
    "print(\"Pedicted mileage to two decimals: %0.2f\" % lin_reg.predict([[2.8]]))"
   ]
  },
  {
   "cell_type": "markdown",
   "id": "sized-authority",
   "metadata": {},
   "source": [
    "**Question 7**"
   ]
  },
  {
   "cell_type": "code",
   "execution_count": 56,
   "id": "significant-helmet",
   "metadata": {},
   "outputs": [],
   "source": [
    "# In this problem you will use the gradient descent algorithm as presented in the 'Linear-regression-demo' notebook. \n",
    "# For the 'mtcars' data set if the input variable is the weight of the car and the output variable is the mileage, \n",
    "# then (slightly) modify the gradient descent algorithm to compute the minimum sum of squared residuals. If, \n",
    "# for running the gradient descent algorithm, you consider the learning_rate = 0.01, the number of iterations = 10000 and the initial slope \n",
    "# and intercept equal to 0, then the optimal value of the sum of the squared residuals is\n",
    "\n",
    "\n",
    "def compute_cost(b, m, data):\n",
    "    total_cost = 0\n",
    "    \n",
    "    # number of datapoints in training data\n",
    "    N = float(len(data))\n",
    "    \n",
    "    # Compute sum of squared errors\n",
    "    for i in range(0, len(data)):\n",
    "        x = data[i, 0]\n",
    "        y = data[i, 1]\n",
    "        total_cost += (y - (m * x + b)) ** 2\n",
    "        \n",
    "    # Return average of squared error\n",
    "    return total_cost/(2*N)\n",
    "\n",
    "def step_gradient(b_current, m_current, data, alpha):\n",
    "    \"\"\"takes one step down towards the minima\n",
    "    \n",
    "    Args:\n",
    "        b_current (float): current value of b\n",
    "        m_current (float): current value of m\n",
    "        data (np.array): array containing the training data (x,y)\n",
    "        alpha (float): learning rate / step size\n",
    "    \n",
    "    Returns:\n",
    "        tuple: (b,m) new values of b,m\n",
    "    \"\"\"\n",
    "    \n",
    "    m_gradient = 0\n",
    "    b_gradient = 0\n",
    "    N = float(len(data))\n",
    "\n",
    "    # Calculate Gradient\n",
    "    for i in range(0, len(data)):\n",
    "        x = data[i, 0]\n",
    "        y = data[i, 1]\n",
    "        m_gradient += - (2/N) * x * (y - (m_current * x + b_current))\n",
    "        b_gradient += - (2/N) * (y - (m_current * x + b_current))\n",
    "    \n",
    "    # Update current m and b\n",
    "    m_updated = m_current - alpha * m_gradient\n",
    "    b_updated = b_current - alpha * b_gradient\n",
    "\n",
    "    #Return updated parameters\n",
    "    return b_updated, m_updated\n",
    "\n",
    "def gradient_descent(data, starting_b, starting_m, learning_rate, num_iterations):\n",
    "    \"\"\"runs gradient descent\n",
    "    \n",
    "    Args:\n",
    "        data (np.array): training data, containing x,y\n",
    "        starting_b (float): initial value of b (random)\n",
    "        starting_m (float): initial value of m (random)\n",
    "        learning_rate (float): hyperparameter to adjust the step size during descent\n",
    "        num_iterations (int): hyperparameter, decides the number of iterations for which gradient descent would run\n",
    "    \n",
    "    Returns:\n",
    "        list : the first and second item are b, m respectively at which the best fit curve is obtained, the third and fourth items are two lists, which store the value of b,m as gradient descent proceeded.\n",
    "    \"\"\"\n",
    "\n",
    "    # initial values\n",
    "    b = starting_b\n",
    "    m = starting_m\n",
    "    \n",
    "    # to store the cost after each iteration\n",
    "    cost_graph = []\n",
    "    \n",
    "    # to store the value of b -> bias unit, m-> slope of line after each iteration (pred = m*x + b)\n",
    "    b_progress = []\n",
    "    m_progress = []\n",
    "    \n",
    "    # For every iteration, optimize b, m and compute its cost\n",
    "    for i in range(num_iterations):\n",
    "        cost_graph.append(compute_cost(b, m, data))\n",
    "        b, m = step_gradient(b, m, data, learning_rate)\n",
    "        b_progress.append(b)\n",
    "        m_progress.append(m)\n",
    "        \n",
    "    return [b, m, np.min(cost_graph), b_progress,m_progress]"
   ]
  },
  {
   "cell_type": "code",
   "execution_count": 57,
   "id": "appropriate-calgary",
   "metadata": {},
   "outputs": [],
   "source": [
    "input_vals = data[['wt']].values\n",
    "output_vals=data[['mpg']].values\n",
    "dat = np.concatenate((input_vals, output_vals), axis=1)"
   ]
  },
  {
   "cell_type": "code",
   "execution_count": 62,
   "id": "spanish-optics",
   "metadata": {},
   "outputs": [
    {
     "name": "stdout",
     "output_type": "stream",
     "text": [
      "Minimum cost:  4.348780274117981\n",
      "\n",
      "\n",
      "Optimized b: 37.285117303091454\n",
      "Optimized m: -5.344469026915932\n",
      "Minimized cost: 4.3487802741179715\n"
     ]
    }
   ],
   "source": [
    "initial_b = 0\n",
    "initial_m = 0\n",
    "learning_rate = 0.01\n",
    "num_iterations = 10000\n",
    "\n",
    "b, m, cost_graph,b_progress,m_progress = gradient_descent(dat, initial_b, initial_m, learning_rate, num_iterations)\n",
    "\n",
    "# print minimum cost\n",
    "print(\"Minimum cost: \", cost_graph)\n",
    "print(\"\\n\")\n",
    "\n",
    "#Print optimized parameters\n",
    "print ('Optimized b:', b)\n",
    "print ('Optimized m:', m)\n",
    "\n",
    "#Print error with optimized parameters\n",
    "print ('Minimized cost:', compute_cost(b, m, dat))"
   ]
  },
  {
   "cell_type": "markdown",
   "id": "transparent-greensboro",
   "metadata": {},
   "source": [
    "**Question 8**"
   ]
  },
  {
   "cell_type": "markdown",
   "id": "nervous-marking",
   "metadata": {},
   "source": [
    "Question: (True/False) If we have one input variable and one output, the process of determining the line of best fit may not require the calculation of the intercept inside the gradient descent algorithm.\n",
    "\n",
    "Answer: I believe this is False because the value of the intercept is what translates the line up and down. Even if the slope is perfect the line could be very far away if the intercept is nonexistent. "
   ]
  },
  {
   "cell_type": "markdown",
   "id": "absolute-commissioner",
   "metadata": {},
   "source": [
    "**Queustion 9**"
   ]
  },
  {
   "cell_type": "markdown",
   "id": "southeast-georgia",
   "metadata": {},
   "source": [
    "Question: For the line of regression in the case of the example we discussed with the 'mtcars' data set the meaning of the intercept is\n",
    "\n",
    "Answer: This is the mileage of a small car. Wt was the input feature and mpg is the target feature. As the weight gets closer and closer to zero (meaning $\\beta_1 x \\rightarrow 0$), only the intercept plays a role in predicting the mpg of the car. This means the algorithm believes a small car with almost zero weight would have a mpg nearly equal to the intercept"
   ]
  },
  {
   "cell_type": "markdown",
   "id": "blond-framework",
   "metadata": {},
   "source": [
    "**Question 10**"
   ]
  },
  {
   "cell_type": "code",
   "execution_count": 51,
   "id": "extended-pricing",
   "metadata": {},
   "outputs": [
    {
     "name": "stdout",
     "output_type": "stream",
     "text": [
      "No scaling slope: -5.34\n",
      "zscores scaling slope: -0.87\n"
     ]
    }
   ],
   "source": [
    "# The slope of the regression line always remains the same if we scale the data by z-scores.\n",
    "\n",
    "from sklearn.linear_model import LinearRegression as LR\n",
    "lin_reg= LR()\n",
    "lin_reg_z = LR()\n",
    "ss = SS()\n",
    "\n",
    "X = data[['wt']]\n",
    "Xz = ss.fit_transform(data[['wt']])\n",
    "y = data[['mpg']]\n",
    "yz = ss.fit_transform(data[['mpg']])\n",
    "\n",
    "lin_reg.fit(X, y)\n",
    "lin_reg_z.fit(Xz, yz)\n",
    "\n",
    "print(\"No scaling slope: %0.2f\" % lin_reg.coef_)\n",
    "print(\"zscores scaling slope: %0.2f\" % lin_reg_z.coef_)"
   ]
  },
  {
   "cell_type": "markdown",
   "id": "experienced-wagner",
   "metadata": {},
   "source": [
    "As we can see, the slope changed when we scaled by z-scores. This highlights that the staement above is FALSE, and it doesn't always remain the same"
   ]
  },
  {
   "cell_type": "code",
   "execution_count": null,
   "id": "homeless-slave",
   "metadata": {},
   "outputs": [],
   "source": []
  }
 ],
 "metadata": {
  "kernelspec": {
   "display_name": "Python 3",
   "language": "python",
   "name": "python3"
  },
  "language_info": {
   "codemirror_mode": {
    "name": "ipython",
    "version": 3
   },
   "file_extension": ".py",
   "mimetype": "text/x-python",
   "name": "python",
   "nbconvert_exporter": "python",
   "pygments_lexer": "ipython3",
   "version": "3.8.6"
  }
 },
 "nbformat": 4,
 "nbformat_minor": 5
}
